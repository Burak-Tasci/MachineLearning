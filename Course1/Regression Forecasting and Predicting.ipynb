{
 "cells": [
  {
   "cell_type": "code",
   "execution_count": 1,
   "metadata": {},
   "outputs": [],
   "source": [
    "import pandas as pd\n",
    "import quandl\n",
    "import math\n",
    "import numpy as np\n",
    "from sklearn import preprocessing, svm\n",
    "from sklearn.model_selection import cross_validate, train_test_split\n",
    "from sklearn.linear_model import LinearRegression"
   ]
  },
  {
   "cell_type": "code",
   "execution_count": 2,
   "metadata": {},
   "outputs": [],
   "source": [
    "quandl.ApiConfig.api_key = \"nkryh3f_sWRHscm8B6kH\"\n",
    "df = quandl.get('WIKI/GOOGL')"
   ]
  },
  {
   "cell_type": "code",
   "execution_count": 3,
   "metadata": {},
   "outputs": [
    {
     "data": {
      "text/plain": [
       "0.9785806185811237"
      ]
     },
     "execution_count": 3,
     "metadata": {},
     "output_type": "execute_result"
    }
   ],
   "source": [
    "df = df[['Adj. Open','Adj. High','Adj. Low','Adj. Close','Adj. Volume',]]\n",
    "df['HL_PCT'] = (df['Adj. High']- df['Adj. Low']) / df['Adj. Low'] * 100.0\n",
    "df['PCT_change'] = (df['Adj. Close'] - df['Adj. Open']) / df['Adj. Open'] * 100.0\n",
    "\n",
    "df = df[['Adj. Close','HL_PCT','PCT_change','Adj. Volume']]\n",
    "\n",
    "forecast_col = 'Adj. Close'\n",
    "\n",
    "df.fillna(-99999,inplace = True)\n",
    "\n",
    "forecast_out = int(math.ceil(0.01*len(df)))\n",
    "\n",
    "df['label'] = df[forecast_col].shift(-forecast_out)\n",
    "\n",
    "x = np.array(df.drop(['label'],1))\n",
    "x = preprocessing.scale(x)\n",
    "x = x[:-forecast_out]\n",
    "x_lately = x[-forecast_out:]\n",
    "\n",
    "\n",
    "df.dropna(inplace = True)\n",
    "y = np.array(df['label'])\n",
    "\n",
    "x_train, x_test, y_train, y_test = train_test_split(x,y,test_size = 0.2)\n",
    "\n",
    "clf = LinearRegression(n_jobs = -1)\n",
    "clf.fit(x_train,y_train)\n",
    "accuracy = clf.score(x_test,y_test)\n",
    "accuracy"
   ]
  },
  {
   "cell_type": "code",
   "execution_count": 4,
   "metadata": {},
   "outputs": [
    {
     "data": {
      "text/plain": [
       "array([1076.62928418, 1090.80262919, 1104.48583125, 1099.15875883,\n",
       "       1092.73267904, 1090.47049958, 1089.02014688, 1085.4289831 ,\n",
       "       1079.62332142, 1075.22363613, 1073.19453888, 1092.2194477 ,\n",
       "       1110.66989984, 1115.56983003, 1130.21972648, 1134.40301083,\n",
       "       1132.60201487, 1130.36059428, 1132.03485066, 1150.08587891,\n",
       "       1149.53558406, 1158.93314233, 1155.6103452 , 1163.76614742,\n",
       "       1183.94755326, 1196.60589215, 1190.62364046, 1202.53997664,\n",
       "       1207.31386241, 1206.75673863, 1197.53784082, 1202.39073285,\n",
       "       1201.26462519, 1136.75812357, 1082.83033731])"
      ]
     },
     "execution_count": 4,
     "metadata": {},
     "output_type": "execute_result"
    }
   ],
   "source": [
    "forecast_set = clf.predict(x_lately)\n",
    "forecast_set"
   ]
  },
  {
   "cell_type": "code",
   "execution_count": 6,
   "metadata": {},
   "outputs": [
    {
     "data": {
      "text/plain": [
       "35"
      ]
     },
     "execution_count": 6,
     "metadata": {},
     "output_type": "execute_result"
    }
   ],
   "source": [
    "forecast_out"
   ]
  },
  {
   "cell_type": "code",
   "execution_count": 7,
   "metadata": {},
   "outputs": [],
   "source": [
    "from matplotlib import style"
   ]
  },
  {
   "cell_type": "code",
   "execution_count": 8,
   "metadata": {},
   "outputs": [],
   "source": [
    "style.use('ggplot')"
   ]
  },
  {
   "cell_type": "code",
   "execution_count": 9,
   "metadata": {},
   "outputs": [],
   "source": [
    "df['Forecast'] = np.nan"
   ]
  },
  {
   "cell_type": "code",
   "execution_count": 15,
   "metadata": {},
   "outputs": [],
   "source": [
    "last_date = df.iloc[-1].name\n",
    "last_unix = last_date.timestamp()\n",
    "one_day = 86400\n",
    "next_unix = last_unix + one_day"
   ]
  },
  {
   "cell_type": "code",
   "execution_count": 14,
   "metadata": {},
   "outputs": [
    {
     "data": {
      "text/plain": [
       "datetime.datetime(1970, 1, 2, 3, 0)"
      ]
     },
     "execution_count": 14,
     "metadata": {},
     "output_type": "execute_result"
    }
   ],
   "source": [
    "# import datetime\n",
    "# dt_object = datetime.datetime.fromtimestamp(86400)\n",
    "# dt_object"
   ]
  },
  {
   "cell_type": "code",
   "execution_count": 16,
   "metadata": {},
   "outputs": [],
   "source": [
    "for i in forecast_set:\n",
    "    next_date = datetime.datetime.fromtimestamp(next_unix)\n",
    "    next_unix += one_day\n",
    "    df.loc[next_date] = [np.nan for _ in range(len(df.columns) - 1)] + [i]\n"
   ]
  },
  {
   "cell_type": "code",
   "execution_count": 18,
   "metadata": {},
   "outputs": [
    {
     "data": {
      "image/png": "[encoded data removed]",
      "text/plain": [
       "<Figure size 432x288 with 1 Axes>"
      ]
     },
     "metadata": {
      "needs_background": "light"
     },
     "output_type": "display_data"
    }
   ],
   "source": [
    "import matplotlib.pyplot as plt\n",
    "df['Adj. Close'].plot()\n",
    "df['Forecast'].plot()\n",
    "plt.legend(loc = 4)\n",
    "plt.xlabel('Date')\n",
    "plt.ylabel('Price')\n",
    "plt.show()"
   ]
  },
  {
   "cell_type": "code",
   "execution_count": 19,
   "metadata": {
    "scrolled": true
   },
   "outputs": [
    {
     "data": {
      "text/plain": [
       "array([[ 2.51580102, -0.6039298 ,  0.1412663 , -0.76234496],\n",
       "       [ 2.57217657, -0.50022447,  0.53002653, -0.57449085],\n",
       "       [ 2.622965  , -0.44793683,  0.54990695, -0.7682545 ],\n",
       "       [ 2.60236251, -0.66934251, -0.18213542, -0.7918798 ],\n",
       "       [ 2.57822928, -0.67105177, -0.43576398, -0.77476995],\n",
       "       [ 2.56771464, -0.9360309 , -0.26386317, -0.80120658],\n",
       "       [ 2.55999355, -1.22162213, -0.05415684, -0.84367193],\n",
       "       [ 2.54831493, -0.82011406, -0.15683226, -0.8371515 ],\n",
       "       [ 2.52639326, -0.84141529, -0.38203759, -0.82344228],\n",
       "       [ 2.50990351, -0.7357582 , -0.37741547, -0.82894113],\n",
       "       [ 2.50000966, -1.13483704, -0.11493011, -0.80783383],\n",
       "       [ 2.5768713 ,  0.01631025,  1.29052176, -0.75939783],\n",
       "       [ 2.64791303, -0.03082794,  1.10486504, -0.7600303 ],\n",
       "       [ 2.66436398, -0.8669119 , -0.06391545, -0.79171453],\n",
       "       [ 2.72073953, -0.74867757,  0.42847749, -0.76696664],\n",
       "       [ 2.7359489 , -0.91660483,  0.20859595, -0.808731  ],\n",
       "       [ 2.73043938, -0.8485927 , -0.31900577, -0.78605162],\n",
       "       [ 2.72015754, -0.93595563,  0.2050883 , -0.82342446],\n",
       "       [ 2.72690863, -0.96394851, -0.00905454, -0.81436905],\n",
       "       [ 2.79973513, -0.03768108,  1.24656612, -0.7159092 ],\n",
       "       [ 2.79992913, -0.12701323, -0.54329912, -0.7317427 ],\n",
       "       [ 2.83252064, -0.51472583,  0.17683201, -0.7839779 ],\n",
       "       [ 2.82037642, -0.49719611, -0.18047237, -0.78633803],\n",
       "       [ 2.84959238, -0.79902323,  0.33597981, -0.77606242],\n",
       "       [ 2.92975197,  0.02618641,  1.19810925, -0.77368847],\n",
       "       [ 2.97635007, -0.82061593,  0.33162966, -0.7258927 ],\n",
       "       [ 2.95741595, -0.32594586, -0.75095251, -0.7275835 ],\n",
       "       [ 2.99951332, -0.71159927,  0.09709864, -0.77841661],\n",
       "       [ 3.0205426 , -0.3336434 ,  0.01830866, -0.7077831 ],\n",
       "       [ 3.01635226, -0.67422884, -0.06837781, -0.76205067],\n",
       "       [ 2.981006  , -0.69811745, -0.00311486, -0.73068523],\n",
       "       [ 2.99982371, -0.64951358, -0.07260739, -0.74871905],\n",
       "       [ 2.99737935, -0.41972655,  0.33301614, -0.61156746],\n",
       "       [ 2.7553098 , -0.23757011, -0.46778619, -0.24489949],\n",
       "       [ 2.55960556,  2.30998825, -1.90605746, -0.49425191]])"
      ]
     },
     "execution_count": 19,
     "metadata": {},
     "output_type": "execute_result"
    }
   ],
   "source": [
    "x_lately"
   ]
  },
  {
   "cell_type": "code",
   "execution_count": 20,
   "metadata": {},
   "outputs": [
    {
     "data": {
      "text/plain": [
       "array([[-1.39187095,  4.32619572,  0.23254018,  4.46712802],\n",
       "       [-1.37635178,  4.39248725,  4.81828847,  1.8207495 ],\n",
       "       [-1.37423066,  1.3118745 , -0.79917922,  1.26561472],\n",
       "       ...,\n",
       "       [ 2.99737935, -0.41972655,  0.33301614, -0.61156746],\n",
       "       [ 2.7553098 , -0.23757011, -0.46778619, -0.24489949],\n",
       "       [ 2.55960556,  2.30998825, -1.90605746, -0.49425191]])"
      ]
     },
     "execution_count": 20,
     "metadata": {},
     "output_type": "execute_result"
    }
   ],
   "source": [
    "x"
   ]
  },
  {
   "cell_type": "code",
   "execution_count": 21,
   "metadata": {},
   "outputs": [
    {
     "data": {
      "text/html": [
       "<div>\n",
       "<style scoped>\n",
       "    .dataframe tbody tr th:only-of-type {\n",
       "        vertical-align: middle;\n",
       "    }\n",
       "\n",
       "    .dataframe tbody tr th {\n",
       "        vertical-align: top;\n",
       "    }\n",
       "\n",
       "    .dataframe thead th {\n",
       "        text-align: right;\n",
       "    }\n",
       "</style>\n",
       "<table border=\"1\" class=\"dataframe\">\n",
       "  <thead>\n",
       "    <tr style=\"text-align: right;\">\n",
       "      <th></th>\n",
       "      <th>Adj. Close</th>\n",
       "      <th>HL_PCT</th>\n",
       "      <th>PCT_change</th>\n",
       "      <th>Adj. Volume</th>\n",
       "      <th>label</th>\n",
       "      <th>Forecast</th>\n",
       "    </tr>\n",
       "    <tr>\n",
       "      <th>Date</th>\n",
       "      <th></th>\n",
       "      <th></th>\n",
       "      <th></th>\n",
       "      <th></th>\n",
       "      <th></th>\n",
       "      <th></th>\n",
       "    </tr>\n",
       "  </thead>\n",
       "  <tbody>\n",
       "    <tr>\n",
       "      <th>2004-08-19 00:00:00</th>\n",
       "      <td>50.322842</td>\n",
       "      <td>8.441017</td>\n",
       "      <td>0.324968</td>\n",
       "      <td>44659000.0</td>\n",
       "      <td>69.078238</td>\n",
       "      <td>NaN</td>\n",
       "    </tr>\n",
       "    <tr>\n",
       "      <th>2004-08-20 00:00:00</th>\n",
       "      <td>54.322689</td>\n",
       "      <td>8.537313</td>\n",
       "      <td>7.227007</td>\n",
       "      <td>22834300.0</td>\n",
       "      <td>67.839414</td>\n",
       "      <td>NaN</td>\n",
       "    </tr>\n",
       "    <tr>\n",
       "      <th>2004-08-23 00:00:00</th>\n",
       "      <td>54.869377</td>\n",
       "      <td>4.062357</td>\n",
       "      <td>-1.227880</td>\n",
       "      <td>18256100.0</td>\n",
       "      <td>68.912727</td>\n",
       "      <td>NaN</td>\n",
       "    </tr>\n",
       "    <tr>\n",
       "      <th>2004-08-24 00:00:00</th>\n",
       "      <td>52.597363</td>\n",
       "      <td>7.753210</td>\n",
       "      <td>-5.726357</td>\n",
       "      <td>15247300.0</td>\n",
       "      <td>70.668146</td>\n",
       "      <td>NaN</td>\n",
       "    </tr>\n",
       "    <tr>\n",
       "      <th>2004-08-25 00:00:00</th>\n",
       "      <td>53.164113</td>\n",
       "      <td>3.966115</td>\n",
       "      <td>1.183658</td>\n",
       "      <td>9188600.0</td>\n",
       "      <td>71.219849</td>\n",
       "      <td>NaN</td>\n",
       "    </tr>\n",
       "    <tr>\n",
       "      <th>...</th>\n",
       "      <td>...</td>\n",
       "      <td>...</td>\n",
       "      <td>...</td>\n",
       "      <td>...</td>\n",
       "      <td>...</td>\n",
       "      <td>...</td>\n",
       "    </tr>\n",
       "    <tr>\n",
       "      <th>2018-03-08 03:00:00</th>\n",
       "      <td>NaN</td>\n",
       "      <td>NaN</td>\n",
       "      <td>NaN</td>\n",
       "      <td>NaN</td>\n",
       "      <td>NaN</td>\n",
       "      <td>1197.537841</td>\n",
       "    </tr>\n",
       "    <tr>\n",
       "      <th>2018-03-09 03:00:00</th>\n",
       "      <td>NaN</td>\n",
       "      <td>NaN</td>\n",
       "      <td>NaN</td>\n",
       "      <td>NaN</td>\n",
       "      <td>NaN</td>\n",
       "      <td>1202.390733</td>\n",
       "    </tr>\n",
       "    <tr>\n",
       "      <th>2018-03-10 03:00:00</th>\n",
       "      <td>NaN</td>\n",
       "      <td>NaN</td>\n",
       "      <td>NaN</td>\n",
       "      <td>NaN</td>\n",
       "      <td>NaN</td>\n",
       "      <td>1201.264625</td>\n",
       "    </tr>\n",
       "    <tr>\n",
       "      <th>2018-03-11 03:00:00</th>\n",
       "      <td>NaN</td>\n",
       "      <td>NaN</td>\n",
       "      <td>NaN</td>\n",
       "      <td>NaN</td>\n",
       "      <td>NaN</td>\n",
       "      <td>1136.758124</td>\n",
       "    </tr>\n",
       "    <tr>\n",
       "      <th>2018-03-12 03:00:00</th>\n",
       "      <td>NaN</td>\n",
       "      <td>NaN</td>\n",
       "      <td>NaN</td>\n",
       "      <td>NaN</td>\n",
       "      <td>NaN</td>\n",
       "      <td>1082.830337</td>\n",
       "    </tr>\n",
       "  </tbody>\n",
       "</table>\n",
       "<p>3424 rows × 6 columns</p>\n",
       "</div>"
      ],
      "text/plain": [
       "                     Adj. Close    HL_PCT  PCT_change  Adj. Volume      label  \\\n",
       "Date                                                                            \n",
       "2004-08-19 00:00:00   50.322842  8.441017    0.324968   44659000.0  69.078238   \n",
       "2004-08-20 00:00:00   54.322689  8.537313    7.227007   22834300.0  67.839414   \n",
       "2004-08-23 00:00:00   54.869377  4.062357   -1.227880   18256100.0  68.912727   \n",
       "2004-08-24 00:00:00   52.597363  7.753210   -5.726357   15247300.0  70.668146   \n",
       "2004-08-25 00:00:00   53.164113  3.966115    1.183658    9188600.0  71.219849   \n",
       "...                         ...       ...         ...          ...        ...   \n",
       "2018-03-08 03:00:00         NaN       NaN         NaN          NaN        NaN   \n",
       "2018-03-09 03:00:00         NaN       NaN         NaN          NaN        NaN   \n",
       "2018-03-10 03:00:00         NaN       NaN         NaN          NaN        NaN   \n",
       "2018-03-11 03:00:00         NaN       NaN         NaN          NaN        NaN   \n",
       "2018-03-12 03:00:00         NaN       NaN         NaN          NaN        NaN   \n",
       "\n",
       "                        Forecast  \n",
       "Date                              \n",
       "2004-08-19 00:00:00          NaN  \n",
       "2004-08-20 00:00:00          NaN  \n",
       "2004-08-23 00:00:00          NaN  \n",
       "2004-08-24 00:00:00          NaN  \n",
       "2004-08-25 00:00:00          NaN  \n",
       "...                          ...  \n",
       "2018-03-08 03:00:00  1197.537841  \n",
       "2018-03-09 03:00:00  1202.390733  \n",
       "2018-03-10 03:00:00  1201.264625  \n",
       "2018-03-11 03:00:00  1136.758124  \n",
       "2018-03-12 03:00:00  1082.830337  \n",
       "\n",
       "[3424 rows x 6 columns]"
      ]
     },
     "execution_count": 21,
     "metadata": {},
     "output_type": "execute_result"
    }
   ],
   "source": [
    "df"
   ]
  },
  {
   "cell_type": "code",
   "execution_count": null,
   "metadata": {},
   "outputs": [],
   "source": []
  }
 ],
 "metadata": {
  "kernelspec": {
   "display_name": "Python 3",
   "language": "python",
   "name": "python3"
  },
  "language_info": {
   "codemirror_mode": {
    "name": "ipython",
    "version": 3
   },
   "file_extension": ".py",
   "mimetype": "text/x-python",
   "name": "python",
   "nbconvert_exporter": "python",
   "pygments_lexer": "ipython3",
   "version": "3.8.5"
  }
 },
 "nbformat": 4,
 "nbformat_minor": 4
}
